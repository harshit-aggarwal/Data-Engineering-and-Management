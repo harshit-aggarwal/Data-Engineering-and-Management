{
 "cells": [
  {
   "cell_type": "markdown",
   "id": "66c2fd18-1502-4cc9-8fbb-71433b594c65",
   "metadata": {},
   "source": [
    "# Project 1 Group 10"
   ]
  },
  {
   "cell_type": "markdown",
   "id": "d46b5066-5b3d-40d7-a826-11fafbfc70d2",
   "metadata": {},
   "source": [
    "#### Members: Harshit Aggarwal, Ranchen Huang, Wenqing Qin, Yinghang Qiu, Arun Rajan\n"
   ]
  },
  {
   "cell_type": "markdown",
   "id": "10c7c995-e726-4a1f-8e61-6d7826c8a2b4",
   "metadata": {},
   "source": [
    "##### check working directory"
   ]
  },
  {
   "cell_type": "code",
   "execution_count": 2,
   "id": "054a7654-e9dd-4d75-a547-2e91a0f6424c",
   "metadata": {},
   "outputs": [
    {
     "name": "stdout",
     "output_type": "stream",
     "text": [
      "/home/ubuntu/notebooks/Assignments/Assignment 2\n"
     ]
    }
   ],
   "source": [
    "!pwd"
   ]
  },
  {
   "cell_type": "markdown",
   "id": "5266e368-4057-46b4-b2c0-3a02c9e77d29",
   "metadata": {},
   "source": [
    "## Problem 1"
   ]
  },
  {
   "cell_type": "markdown",
   "id": "bb703b3a-49d1-43b2-9fc8-86a2ae1fe801",
   "metadata": {},
   "source": [
    "### Part A: Characters in The Hound of the Baskervilles (15 points)\n",
    "\n",
    "Use the text available at https://s3.amazonaws.com/dmfa-2020/project-1/hound.txt for this part.\n",
    "\n",
    "How many times are each of the following characters mentioned by name in the text of The Hound of the Baskervilles?\n",
    "\n",
    "Holmes, Watson, Barrymore, Mortimer\n",
    "\n",
    "Hint: Be careful where the names matches both the exact name and a plural relating to a family name. For example, Watsons vs. Watson.  What do you observe?"
   ]
  },
  {
   "cell_type": "markdown",
   "id": "4e628477-205b-4ce3-a664-16fefdda77fc",
   "metadata": {
    "tags": []
   },
   "source": [
    "##### Upload text file using !wget command"
   ]
  },
  {
   "cell_type": "code",
   "execution_count": 3,
   "id": "396f5ff0-6892-49f8-9afa-0a480d8b4c83",
   "metadata": {},
   "outputs": [
    {
     "name": "stdout",
     "output_type": "stream",
     "text": [
      "--2021-09-27 01:48:01--  https://s3.amazonaws.com/dmfa-2020/project-1/hound.txt\n",
      "Resolving s3.amazonaws.com (s3.amazonaws.com)... 52.216.160.61\n",
      "Connecting to s3.amazonaws.com (s3.amazonaws.com)|52.216.160.61|:443... connected.\n",
      "HTTP request sent, awaiting response... 200 OK\n",
      "Length: 345659 (338K) [text/plain]\n",
      "Saving to: ‘hound.txt’\n",
      "\n",
      "hound.txt           100%[===================>] 337.56K  --.-KB/s    in 0.01s   \n",
      "\n",
      "2021-09-27 01:48:02 (28.7 MB/s) - ‘hound.txt’ saved [345659/345659]\n",
      "\n"
     ]
    }
   ],
   "source": [
    "!wget https://s3.amazonaws.com/dmfa-2020/project-1/hound.txt"
   ]
  },
  {
   "cell_type": "markdown",
   "id": "bed48259-5ac5-49a2-aec7-8782578f4031",
   "metadata": {},
   "source": [
    "##### Check head of the file text"
   ]
  },
  {
   "cell_type": "markdown",
   "id": "5b61b4c4-c8aa-479e-b7ee-39e055279bd3",
   "metadata": {},
   "source": [
    "#### Holmes"
   ]
  },
  {
   "cell_type": "markdown",
   "id": "e66b67bb-ac7d-4408-ac3d-38611f3bbeef",
   "metadata": {},
   "source": [
    "##### Search for how many times of 'Holmes' appears"
   ]
  },
  {
   "cell_type": "code",
   "execution_count": 4,
   "id": "35f19a24-9975-4849-8591-346ae8195cb0",
   "metadata": {},
   "outputs": [
    {
     "name": "stdout",
     "output_type": "stream",
     "text": [
      "    190    2203   12785\n"
     ]
    }
   ],
   "source": [
    "!grep Holmes hound.txt | wc"
   ]
  },
  {
   "cell_type": "markdown",
   "id": "351ac344-f1df-4d21-8e18-6b0f9782bc30",
   "metadata": {},
   "source": [
    "* Holmes is mentioned in the text 190 times."
   ]
  },
  {
   "cell_type": "code",
   "execution_count": 5,
   "id": "672e8f48-cf11-416e-a2ea-cb2fd489e56f",
   "metadata": {},
   "outputs": [
    {
     "name": "stdout",
     "output_type": "stream",
     "text": [
      "    190    2203   12785\n"
     ]
    }
   ],
   "source": [
    "!grep -w Holmes hound.txt | wc"
   ]
  },
  {
   "cell_type": "markdown",
   "id": "ae561546-29aa-4833-9d28-141ab0c7f6d4",
   "metadata": {},
   "source": [
    "#### Search for how many times of 'Watson'appears"
   ]
  },
  {
   "cell_type": "code",
   "execution_count": 6,
   "id": "275cd5a8-fc27-4db3-a95f-86e1deb83734",
   "metadata": {},
   "outputs": [
    {
     "name": "stdout",
     "output_type": "stream",
     "text": [
      "    113    1343    7580\n"
     ]
    }
   ],
   "source": [
    "!grep Watson hound.txt | wc"
   ]
  },
  {
   "cell_type": "markdown",
   "id": "9ad34832-4e1f-42dd-ac48-87606f7001b0",
   "metadata": {},
   "source": [
    "* Watson is mentioned in the text 113 times."
   ]
  },
  {
   "cell_type": "code",
   "execution_count": 40,
   "id": "67a9e30c-b370-48d0-8c53-cbc5f45208fb",
   "metadata": {},
   "outputs": [
    {
     "name": "stdout",
     "output_type": "stream",
     "text": [
      "    113    1343    7580\n"
     ]
    }
   ],
   "source": [
    "!grep -w Watson hound.txt | wc"
   ]
  },
  {
   "cell_type": "markdown",
   "id": "18ac0234-2a13-4794-8dcf-ec69988bbbc5",
   "metadata": {},
   "source": [
    "#### Search for how many times of 'Barrymore'appears"
   ]
  },
  {
   "cell_type": "code",
   "execution_count": 7,
   "id": "fc29b6bb-7e27-4d04-a58c-def1ae20ed22",
   "metadata": {},
   "outputs": [
    {
     "name": "stdout",
     "output_type": "stream",
     "text": [
      "     78     875    5106\n"
     ]
    }
   ],
   "source": [
    "!grep Barrymore hound.txt | wc"
   ]
  },
  {
   "cell_type": "markdown",
   "id": "db8b2734-1ccf-4211-9822-ea3047ca99ab",
   "metadata": {},
   "source": [
    "* Barrymore is mentioned in the text 72 times."
   ]
  },
  {
   "cell_type": "code",
   "execution_count": 10,
   "id": "5f5d6001-b0b6-4290-9112-1345eb583fea",
   "metadata": {},
   "outputs": [
    {
     "name": "stdout",
     "output_type": "stream",
     "text": [
      "     72     806    4691\n"
     ]
    }
   ],
   "source": [
    "!grep -w Barrymore hound.txt | wc "
   ]
  },
  {
   "cell_type": "markdown",
   "id": "85121239-146d-4467-ac9c-39420484e4cf",
   "metadata": {},
   "source": [
    "#### Search for how many times of 'Mortimer'appears"
   ]
  },
  {
   "cell_type": "code",
   "execution_count": 43,
   "id": "2a554ba0-7b02-4efb-81bb-5c68767448bf",
   "metadata": {},
   "outputs": [
    {
     "name": "stdout",
     "output_type": "stream",
     "text": [
      "     90    1036    6143\n"
     ]
    }
   ],
   "source": [
    "!grep Mortimer hound.txt | wc"
   ]
  },
  {
   "cell_type": "markdown",
   "id": "bdae2359-554c-4dc6-b8d1-3626b6a6c4ee",
   "metadata": {},
   "source": [
    "* Mortimer is mentioned in the text 89 times."
   ]
  },
  {
   "cell_type": "code",
   "execution_count": 45,
   "id": "21846e75-24c1-4a1c-9840-e32bc4d9979d",
   "metadata": {},
   "outputs": [
    {
     "name": "stdout",
     "output_type": "stream",
     "text": [
      "     89    1023    6075\n"
     ]
    }
   ],
   "source": [
    "!grep -w Mortimer hound.txt | wc"
   ]
  },
  {
   "cell_type": "markdown",
   "id": "c9af45e1-e257-435c-a376-ce5585ff8ce6",
   "metadata": {},
   "source": [
    "### Part B: Characters in Hamlet (15 points)\n",
    "\n",
    "Use the text available at https://s3.amazonaws.com/dmfa-2020/project-1/hamlet.txt for this part.\n",
    "\n",
    "How many times do each of the following characters have speaking lines in Hamlet? Keep in mind that this is the text of a play.\n",
    "\n",
    "Hamlet, Polonius, Ophelia, and Horatio\n",
    "\n",
    "A speaking line is usually start with an Upper-case name with a trailing  “.”\n",
    "For example, \n",
    "HAMLET. Not so, my lord, I am too much i’ the Sun\n",
    "\n",
    "##### Upload text file using !wget command"
   ]
  },
  {
   "cell_type": "code",
   "execution_count": 22,
   "id": "e6f52a8e-b090-49d6-adf8-e89cfad70de2",
   "metadata": {},
   "outputs": [
    {
     "name": "stdout",
     "output_type": "stream",
     "text": [
      "--2021-09-27 02:46:23--  https://s3.amazonaws.com/dmfa-2020/project-1/hamlet.txt\n",
      "Resolving s3.amazonaws.com (s3.amazonaws.com)... 52.217.42.30\n",
      "Connecting to s3.amazonaws.com (s3.amazonaws.com)|52.217.42.30|:443... connected.\n",
      "HTTP request sent, awaiting response... 200 OK\n",
      "Length: 204885 (200K) [text/plain]\n",
      "Saving to: ‘hamlet.txt’\n",
      "\n",
      "hamlet.txt          100%[===================>] 200.08K  --.-KB/s    in 0.009s  \n",
      "\n",
      "2021-09-27 02:46:23 (21.7 MB/s) - ‘hamlet.txt’ saved [204885/204885]\n",
      "\n"
     ]
    }
   ],
   "source": [
    "!wget https://s3.amazonaws.com/dmfa-2020/project-1/hamlet.txt"
   ]
  },
  {
   "cell_type": "code",
   "execution_count": 23,
   "id": "78eae2f5-17c1-4210-b9fe-c0b8c2023d6f",
   "metadata": {},
   "outputs": [
    {
     "name": "stdout",
     "output_type": "stream",
     "text": [
      "\n",
      "Project Gutenberg EBook of Hamlet, by William Shakespeare\n",
      "\n",
      "This eBook is for the use of anyone anywhere in the United States and\n",
      "most other parts of the world at no cost and with almost no\n",
      "restrictions whatsoever.  You may copy it, give it away or re-use it\n",
      "under the terms of the Project Gutenberg License included with this\n",
      "eBook or online at www.gutenberg.org.  If you are not located in the\n",
      "United States, you’ll have to check the laws of the country where you\n",
      "are located before using this ebook.\n"
     ]
    }
   ],
   "source": [
    "# Check head of the file text\n",
    "!head hamlet.txt"
   ]
  },
  {
   "cell_type": "markdown",
   "id": "b44242f2-0a43-4ede-9d03-6f8a735383b6",
   "metadata": {},
   "source": [
    "#### Hamlet\n"
   ]
  },
  {
   "cell_type": "code",
   "execution_count": 24,
   "id": "ac44b023-cb21-4625-b0ee-b7ad58336567",
   "metadata": {},
   "outputs": [
    {
     "name": "stdout",
     "output_type": "stream",
     "text": [
      "    358    3537   19856\n"
     ]
    }
   ],
   "source": [
    "!grep -F \"HAMLET. \" hamlet.txt | wc"
   ]
  },
  {
   "cell_type": "markdown",
   "id": "4b5bcac3-8eb6-4d0b-ae51-0bfd0e756ca8",
   "metadata": {},
   "source": [
    "* Hamlet has 358 speaking lines.\n"
   ]
  },
  {
   "cell_type": "markdown",
   "id": "0673874b-bd62-4881-977f-f1bfb3ae36cb",
   "metadata": {},
   "source": [
    "#### Polonius"
   ]
  },
  {
   "cell_type": "code",
   "execution_count": 25,
   "id": "84ebd62a-1c95-42ae-8cae-6180b574399f",
   "metadata": {},
   "outputs": [
    {
     "name": "stdout",
     "output_type": "stream",
     "text": [
      "     86     823    4837\n"
     ]
    }
   ],
   "source": [
    "!grep -F \"POLONIUS. \" hamlet.txt | wc"
   ]
  },
  {
   "cell_type": "markdown",
   "id": "c3f1dd67-1ff3-48e2-aa56-ba9f1dee129a",
   "metadata": {},
   "source": [
    "* Polonius has 86 speaking lines.\n"
   ]
  },
  {
   "cell_type": "markdown",
   "id": "2969b010-4597-480b-b016-0b6d94e2be1e",
   "metadata": {},
   "source": [
    "#### Ophelia\n"
   ]
  },
  {
   "cell_type": "code",
   "execution_count": 26,
   "id": "789a8c4f-27ff-4ee0-a508-6bf065469680",
   "metadata": {},
   "outputs": [
    {
     "name": "stdout",
     "output_type": "stream",
     "text": [
      "     58     542    3135\n"
     ]
    }
   ],
   "source": [
    "!grep -F \"OPHELIA. \" hamlet.txt | wc"
   ]
  },
  {
   "cell_type": "markdown",
   "id": "67b70f8f-1a1a-4712-b25d-97f334c54254",
   "metadata": {},
   "source": [
    "* Ophelia has 58 speaking lines."
   ]
  },
  {
   "cell_type": "markdown",
   "id": "9cb6e037-f19b-4779-8cba-f4a6ab790d81",
   "metadata": {},
   "source": [
    "#### Horatio"
   ]
  },
  {
   "cell_type": "code",
   "execution_count": 27,
   "id": "d3330214-d853-47fb-aade-632736c8e0ce",
   "metadata": {},
   "outputs": [
    {
     "name": "stdout",
     "output_type": "stream",
     "text": [
      "    107     892    5096\n"
     ]
    }
   ],
   "source": [
    "!grep -F \"HORATIO. \" hamlet.txt | wc"
   ]
  },
  {
   "cell_type": "markdown",
   "id": "b3fe16a0-dd44-45c2-9857-ff788e55a703",
   "metadata": {},
   "source": [
    "* Horatio has 107 speaking lines."
   ]
  },
  {
   "cell_type": "markdown",
   "id": "0955571f-eb29-43e3-b1f1-6ebaac9dce83",
   "metadata": {},
   "source": [
    "## Problem 2"
   ]
  },
  {
   "cell_type": "markdown",
   "id": "e6109a3a-b061-4d60-a2db-cb37904e9a2b",
   "metadata": {},
   "source": [
    "### Part A"
   ]
  },
  {
   "cell_type": "markdown",
   "id": "1f24c346-1f8a-4a44-ab89-16a37bf7ffc3",
   "metadata": {},
   "source": [
    "1. Unzip the data and combine the two inflating CSV files using csvstack. Name your combined file “trips.csv”. Compare the total number of lines in each file and in the new combined file. Comment on your findings."
   ]
  },
  {
   "cell_type": "code",
   "execution_count": null,
   "id": "267ae87b-dbd2-4d4a-878e-ad718631d84f",
   "metadata": {},
   "outputs": [],
   "source": [
    "# Get the data\n",
    "!wget https://s3.amazonaws.com/dmfa-2020/project-1/2018-capitalbikeshare-tripdata.zip"
   ]
  },
  {
   "cell_type": "code",
   "execution_count": null,
   "id": "703e604f-1eaa-45c5-87b9-eff114513ffa",
   "metadata": {},
   "outputs": [],
   "source": [
    "# Get the numbers of files\n",
    "!unzip -l 2018-capitalbikeshare-tripdata.zip"
   ]
  },
  {
   "cell_type": "code",
   "execution_count": null,
   "id": "ccc64947-f728-4b4c-9f0a-c4c2ccfdb4b0",
   "metadata": {},
   "outputs": [],
   "source": [
    "# Unzip the data\n",
    "!unzip 2018-capitalbikeshare-tripdata.zip"
   ]
  },
  {
   "cell_type": "code",
   "execution_count": null,
   "id": "98638b22-a966-45a4-b1b4-c7129c11f246",
   "metadata": {},
   "outputs": [],
   "source": [
    "# Using csvstack combine the data\n",
    "!csvstack 201807-capitalbikeshare-tripdata.csv 201808-capitalbikeshare-tripdata.csv > trips.csv"
   ]
  },
  {
   "cell_type": "code",
   "execution_count": null,
   "id": "181030a9-7703-4203-9df9-f7dd92ffb025",
   "metadata": {},
   "outputs": [],
   "source": [
    "# Get the total number of lines in the individual files and the final combined file\n",
    "!wc -l 201807-capitalbikeshare-tripdata.csv\n",
    "!wc -l 201808-capitalbikeshare-tripdata.csv\n",
    "!wc -l trips.csv"
   ]
  },
  {
   "cell_type": "markdown",
   "id": "bfc46af9-919b-429c-8d98-8adb4721b1d4",
   "metadata": {},
   "source": [
    "The 2 files individually have 404762 and 403867 lines of data whereas the combined file has 808628 lines.\n",
    "There is a discrepancy of 1 line, which can be attributed the the header column."
   ]
  },
  {
   "cell_type": "markdown",
   "id": "88189a27-7cbd-407b-bc22-d25aa5f82777",
   "metadata": {},
   "source": [
    "2. List the labels for the heading line.  "
   ]
  },
  {
   "cell_type": "code",
   "execution_count": 15,
   "id": "40514924-1042-41da-b1cb-31a9c17b0b58",
   "metadata": {},
   "outputs": [
    {
     "name": "stdout",
     "output_type": "stream",
     "text": [
      "  1: Duration\n",
      "  2: Start date\n",
      "  3: End date\n",
      "  4: Start station number\n",
      "  5: Start station\n",
      "  6: End station number\n",
      "  7: End station\n",
      "  8: Bike number\n",
      "  9: Member type\n"
     ]
    }
   ],
   "source": [
    "!csvcut -n trips.csv"
   ]
  },
  {
   "cell_type": "markdown",
   "id": "a6537ecd-8a5e-48b6-bdf4-97ae5df66c0a",
   "metadata": {},
   "source": [
    "3. Which 12 Capital Bikeshare stations were the most popular departing stations in July and August 2018 in terms of number of rides? provide the full name of the station, not just the station number."
   ]
  },
  {
   "cell_type": "code",
   "execution_count": 4,
   "id": "7046a23b-513b-4056-912f-bf56b450377b",
   "metadata": {},
   "outputs": [
    {
     "name": "stdout",
     "output_type": "stream",
     "text": [
      "  15474 31258,Lincoln Memorial\n",
      "  13082 31623,Columbus Circle / Union Station\n",
      "  11999 31247,Jefferson Dr & 14th St SW\n",
      "  11671 31289,Henry Bacon Dr & Lincoln Memorial Circle NW\n",
      "  11650 31288,4th St & Madison Dr NW\n",
      "  10357 31248,Smithsonian-National Mall / Jefferson Dr & 12th St SW\n",
      "   9554 31249,Jefferson Memorial\n",
      "   8620 31290,17th St & Independence Ave SW\n",
      "   8583 31200,Massachusetts Ave & Dupont Circle NW\n",
      "   8569 31201,15th & P St NW\n",
      "   7711 31603,1st & M St NE\n",
      "   7578 31321,15th St & Constitution Ave NW\n"
     ]
    }
   ],
   "source": [
    "!csvcut -c4,5 trips.csv | sort | uniq -c | sort -r | head -12"
   ]
  },
  {
   "cell_type": "markdown",
   "id": "058a44e2-1e3b-4e25-8b20-fc7849312d80",
   "metadata": {},
   "source": [
    "4. Which 12 stations were the most popular destination stations in July and August 2018 in terms of number of rides?  provide the full name of the station, not just the station number. "
   ]
  },
  {
   "cell_type": "code",
   "execution_count": null,
   "id": "66c17ddb-6d01-4b14-abad-6cc77d784487",
   "metadata": {},
   "outputs": [],
   "source": [
    "!csvcut -c6,7 trips.csv | sort | uniq -c | sort -r | head -12"
   ]
  },
  {
   "cell_type": "markdown",
   "id": "5c389335-fd19-48ab-962f-51339346d7f9",
   "metadata": {},
   "source": [
    "5. Which 12 station-pairs (Departing-Destination) are most popular in July and August 2018 in terms of number of rides?  provide the full name of the station, not just the station number."
   ]
  },
  {
   "cell_type": "code",
   "execution_count": null,
   "id": "bce60909-31e6-4b4c-9673-2a7cdb841e98",
   "metadata": {},
   "outputs": [],
   "source": [
    "!csvcut -c5,7 trips.csv | sort | uniq -c | sort -r | head -12"
   ]
  },
  {
   "cell_type": "markdown",
   "id": "64ef05ea-7334-4115-987c-9c48c339254c",
   "metadata": {},
   "source": [
    "6. Comments on your finding for Q3, Q4 and Q5."
   ]
  },
  {
   "cell_type": "markdown",
   "id": "222b9527-ca6b-4203-9322-18a6b7a8dd25",
   "metadata": {},
   "source": [
    "Even though Lincoln Memorial and Columbus Circle/Union Station are the top departing and destination stations it is not the most popular route to travel with them not being in the top 12. Lincoln Memorial to Jefferson Memorial seems like a popular router given that they appear in both the lists. Lincoln Memorial back to Lincoln Memorial is the 5th most populus route."
   ]
  },
  {
   "cell_type": "markdown",
   "id": "116077cc-ebdd-455e-b810-fb1fa5b8844c",
   "metadata": {},
   "source": [
    "### Part B"
   ]
  },
  {
   "cell_type": "markdown",
   "id": "cf2ec9b9-024f-4ee5-85b6-7b5e373bc9b7",
   "metadata": {},
   "source": [
    "1. For the most popular departure station, which 10 bikes were used most in trips departing from there? provide the full name of the station, not just the station number."
   ]
  },
  {
   "cell_type": "code",
   "execution_count": null,
   "id": "be9811b1-9eb3-40df-acae-26ba695afb65",
   "metadata": {},
   "outputs": [],
   "source": [
    "# From Part A question 3, get the most popular departure station: 31258, Lincoln Memorial\n",
    "# get the info with 4,5,8 column\n",
    "!csvgrep -c4 -r \"31258\" trips.csv | csvcut -c4,5,8 | sort | uniq -c | sort -r | head -10"
   ]
  },
  {
   "cell_type": "markdown",
   "id": "2b3a02dc-5bd7-4c9d-bd7a-c0a1936889d8",
   "metadata": {},
   "source": [
    "2. Which 10 bikes were used most in trips ending at the most popular destination station? provide the full name of the station, not just the station number."
   ]
  },
  {
   "cell_type": "code",
   "execution_count": null,
   "id": "e4709db0-bba1-4030-8380-56a12bd039a4",
   "metadata": {},
   "outputs": [],
   "source": [
    "!csvgrep -c6 -r \"31258\" trips.csv | csvcut -c6,7,8 | sort | uniq -c | sort -r | head -10"
   ]
  },
  {
   "cell_type": "markdown",
   "id": "c6d2e91d-ac26-4d62-b943-adabe9958b3f",
   "metadata": {},
   "source": [
    "## Problem 3"
   ]
  },
  {
   "cell_type": "markdown",
   "id": "0520b105-f756-418c-aa8d-e35519af907b",
   "metadata": {
    "tags": []
   },
   "source": [
    "#### Question 1 :\n",
    "Upload the two files into your root directory, combine the first file (header) with the unzipped version of the second file (data) and name the combined file as “candidate.csv” (7 points)\n",
    "Hint: you may need to reformat your second file from “|” delimited to csv before you combine it with the first file. You can use csvformat command. "
   ]
  },
  {
   "cell_type": "markdown",
   "id": "0ef19965-8bbf-42ed-8894-857999695cf8",
   "metadata": {},
   "source": [
    "The following were performed\n",
    "* Get the cm_header_file.csv from the weblink\n",
    "* Get the cm22.zip file from the weblink\n",
    "* Unzip the cm22.zip file using unzip command"
   ]
  },
  {
   "cell_type": "code",
   "execution_count": null,
   "id": "7796ddb4-415c-4856-a3ce-34e0d45dabd7",
   "metadata": {},
   "outputs": [],
   "source": [
    "!wget https://www.fec.gov/files/bulk-downloads/data_dictionaries/cm_header_file.csv\n",
    "!wget https://www.fec.gov/files/bulk-downloads/2022/cm22.zip\n",
    "!unzip cm22.zip"
   ]
  },
  {
   "cell_type": "markdown",
   "id": "cbf875a8-6cb3-4199-b772-8932150d471d",
   "metadata": {},
   "source": [
    "We then convert the txt file to cm.csv in csv format. Then, the 15 columns in the file is listed out. The 15th column remains unnamed or empty."
   ]
  },
  {
   "cell_type": "code",
   "execution_count": null,
   "id": "3a8d91f9-f3cc-4b0d-9735-7a9f6ebf4e85",
   "metadata": {},
   "outputs": [],
   "source": [
    "!csvformat -d \"|\" cm.txt > cm.csv\n",
    "!csvcut -n cm.csv"
   ]
  },
  {
   "cell_type": "markdown",
   "id": "0af54eb1-d0d1-4866-abff-b3c00e08a1c6",
   "metadata": {},
   "source": [
    "The names of the 15 columns in the file cm_header_file.csv is listed out."
   ]
  },
  {
   "cell_type": "code",
   "execution_count": null,
   "id": "479aa1ab-c414-4aae-a2db-7d8df07360d5",
   "metadata": {},
   "outputs": [],
   "source": [
    "!csvcut -n cm_header_file.csv"
   ]
  },
  {
   "cell_type": "markdown",
   "id": "4f5085fd-41cd-4ca5-ac1b-7c2df4199c1d",
   "metadata": {},
   "source": [
    "The data from the cm.csv is stacked below the cm_header_file.csv, and combined into a file named candidate.csv"
   ]
  },
  {
   "cell_type": "code",
   "execution_count": null,
   "id": "8ecea49e-0442-4618-9a92-c2d4e863039f",
   "metadata": {},
   "outputs": [],
   "source": [
    "!csvstack cm_header_file.csv cm.csv > candidate.csv"
   ]
  },
  {
   "cell_type": "markdown",
   "id": "342c23f4-8114-4827-a559-9a5dbf98b989",
   "metadata": {},
   "source": [
    "#### Question 2. \n",
    "Provide a  list of the label heading for the combined file. Display the first 5 columns and 20 rows of the combined file "
   ]
  },
  {
   "cell_type": "markdown",
   "id": "f9058500-5cba-479d-8654-01f79fed0869",
   "metadata": {},
   "source": [
    "Display the first 5 columns and 20 rows of the combined file using the csvcut to select columns 1 to 5, and then display the output using csvlook. "
   ]
  },
  {
   "cell_type": "code",
   "execution_count": null,
   "id": "e86022de-4069-4282-8a38-a492f1409c36",
   "metadata": {},
   "outputs": [],
   "source": [
    "!csvcut -n candidate.csv "
   ]
  },
  {
   "cell_type": "markdown",
   "id": "13d19d75-0aed-4bf0-9567-8f36637c5530",
   "metadata": {},
   "source": [
    "The first 5 columns and 20 rows of the combined file is obtained using the head command, which is piped to csvcut for columns 1 to 5 only, and the results obtained using csvlook is listed below."
   ]
  },
  {
   "cell_type": "code",
   "execution_count": 6,
   "id": "c2037dac-6798-4bb6-94a1-0c903e65a678",
   "metadata": {},
   "outputs": [
    {
     "name": "stdout",
     "output_type": "stream",
     "text": [
      "| CMTE_ID   | CMTE_NM                                                                                         | TRES_NM                     | CMTE_ST1                          | CMTE_ST2        |\n",
      "| --------- | ----------------------------------------------------------------------------------------------- | --------------------------- | --------------------------------- | --------------- |\n",
      "| C00000422 | AMERICAN MEDICAL ASSOCIATION POLITICAL ACTION COMMITTEE                                         | WALKER, KEVIN MR.           | 25 MASSACHUSETTS AVE, NW          | SUITE 600       |\n",
      "| C00000489 | D R I V E POLITICAL FUND CHAPTER 886                                                            | JERRY SIMS JR               | 3528 W RENO                       |                 |\n",
      "| C00000547 | KANSAS MEDICAL SOCIETY POLITICAL ACTION COMMITTEE                                               | JERRY SLAUGHTER             | 623 SW 10TH AVE                   |                 |\n",
      "| C00000729 | AMERICAN DENTAL ASSOCIATION POLITICAL ACTION COMMITTEE                                          | DI VINCENZO, GIORGIO T. DR. | 1111 14TH STREET, NW              | SUITE 1100      |\n",
      "| C00000885 | INTERNATIONAL UNION OF PAINTERS AND ALLIED TRADES POLITICAL ACTION TOGETHER POLITICAL COMMITTEE | GALIS, GEORGE               | 7234 PARKWAY DRIVE                |                 |\n",
      "| C00000901 | BUILD POLITICAL ACTION COMMITTEE OF THE NATIONAL ASSOCIATION OF HOME BUILDERS (BUILDPAC)        | RAMAGE, EILEEN              | 1201 15TH STREET, NW              |                 |\n",
      "| C00000935 | DCCC                                                                                            | PERSICO, TIMOTHY            | 430 SOUTH CAPITOL STREET, SE      | 2ND FLOOR       |\n",
      "| C00000984 | UNITED STATES TELECOM ASSOCIATION POLITICAL ACTION COMMITTEE (TELECOMPAC)                       | HEINER, BRANDON             | 601 NEW JERSEY AVE NW             | STE 600         |\n",
      "| C00001016 | CARPENTERS LEGISLATIVE IMPROVEMENT COMMITTEE UNITED BROTHERHOOD OF CARPENTERS AND JOINERS       | FLYNN, THOMAS               | 101 CONSTIUTION AVENUE, NW        | 10TH FLOOR WEST |\n",
      "| C00001180 | MICHIGAN DOCTORS POLITICAL ACTION COMMITTEE - MICHIGAN STATE MEDICAL SOCIETY                    | GHOSE, AMIT                 | P.O. BOX 769                      |                 |\n",
      "| C00001198 | AMERICAN HOTEL AND LODGING ASSOCIATION POLITICAL ACTION COMMITTEE ('HOTELPAC')                  | MASON, DAVID M.             | 1250 EYE STREET, NW #1100         |                 |\n",
      "| C00001214 | TEXAS MEDICAL ASSOCIATION POLITICAL ACTION COMMITTEE                                            | MOJEZATI, CHRISTINE MS.     | 401 WEST 15TH STREET              |                 |\n",
      "| C00001305 | REPUBLICAN PARTY OF VIRGINIA INC                                                                | SELPH, JOHN G MR.           | 115 EAST GRACE STREET             |                 |\n",
      "| C00001313 | REPUBLICAN PARTY OF MINNESOTA - FEDERAL                                                         | BLAXILL, MARK               | 7400 METRO BLVD                   | STE 424         |\n",
      "| C00001388 | DAIRY FARMERS OF AMERICA, INC. POLITICAL ACTION COMMITTEE; AKA DFA-PAC                          | KNIGGE, MARY                | 1405 N. 98TH STREET               |                 |\n",
      "| C00001461 | ALASKA STATE MEDICAL ASSOCIATION POLITICAL ACTION COMMITTEE (ALPAC)                             | POWELL, ELI MR.             | 4107 LAUREL STREET                |                 |\n",
      "| C00001636 | SMART TD PAC                                                                                    | LEONARD, BRENT C.           | 24950 COUNTRY CLUB BLVD,  STE 340 |                 |\n",
      "| C00001727 | BUSINESS-INDUSTRY POLITICAL ACTION COMMITTEE                                                    | KILLION JOYCE, MEAGHAN      | 1707 L STREET, NW                 |                 |\n",
      "| C00001743 | LOCAL 1814 ILA  POLITICAL ACTION AND EDUCATION FUND                                             | AGOSTA, FRANK J             | 219 51ST STREET                   | 2ND FLOOR       |\n"
     ]
    }
   ],
   "source": [
    "!head -20 candidate.csv | csvcut -c 1-5 | csvlook"
   ]
  },
  {
   "cell_type": "markdown",
   "id": "6bd842b1-dcd6-4e9a-b656-aebec773b9da",
   "metadata": {},
   "source": [
    "#### Question 3\n",
    "\n",
    "Provide a list of all Republican committees with an office in NY. \n",
    "The list should contain the Committee name, Committee city or town, and Connected organization's name. Sort the finding by Comittee name.\n"
   ]
  },
  {
   "cell_type": "markdown",
   "id": "240dccc5-f62f-4007-a203-d7a212ec25c7",
   "metadata": {},
   "source": [
    "We use csvgrep to identify the 'REP' in column 11 and 'NY' in column 7 of candidate.csv file. \n",
    "Then, using csvcut, the columns 2, 6 and 14 are selected.\n",
    "csvlook is used to display the result of Republican in NY"
   ]
  },
  {
   "cell_type": "code",
   "execution_count": null,
   "id": "ca1c73b9-c942-4280-98d4-a486cae57273",
   "metadata": {},
   "outputs": [],
   "source": [
    "!csvgrep -c11 -r \"(?i)REP\" candidate.csv | csvgrep -c7 -r \"(?i)NY\" candidate.csv | csvcut -c 2,6,14 | csvsort -c 1 | csvlook "
   ]
  },
  {
   "cell_type": "markdown",
   "id": "bf004ee3-7418-4738-b107-5b9b3bac3055",
   "metadata": {},
   "source": [
    "#### Question 4\n",
    "Provide the names of the committees that appear more than two times in this dataset? If you find any investigate whether these records are duplicates and suggest an action (e.g. remove) (10 points). "
   ]
  },
  {
   "cell_type": "markdown",
   "id": "e9764df4-1346-4bf4-a191-87c763f6871b",
   "metadata": {},
   "source": [
    "We use the csvcut to select Column 2 of candidate.csv which has the Committee name, and then use sort, uniq and sort -rn to i\n",
    "grep and identify the multiple entries greater than 2."
   ]
  },
  {
   "cell_type": "code",
   "execution_count": 8,
   "id": "17c0ed63-5841-4f79-a7d8-137868c2c9cc",
   "metadata": {},
   "outputs": [
    {
     "name": "stdout",
     "output_type": "stream",
     "text": [
      "3\n"
     ]
    }
   ],
   "source": [
    "!csvcut -c2 candidate.csv | sort | uniq -c | sort -rn | grep \"2\" -v | grep \"1\" -v | wc -l"
   ]
  },
  {
   "cell_type": "code",
   "execution_count": 9,
   "id": "a6ee85eb-0ae5-41ed-8835-8e68657ee428",
   "metadata": {},
   "outputs": [
    {
     "name": "stdout",
     "output_type": "stream",
     "text": [
      "      4 COLLINS FOR CONGRESS\n",
      "      3 SCHNEIDER FOR CONGRESS\n",
      "      3 HOLD THEM ACCOUNTABLE\n"
     ]
    }
   ],
   "source": [
    "!csvcut -c2 candidate.csv | sort | uniq -c | sort -rn | grep \"2\" -v | grep \"1\" -v"
   ]
  },
  {
   "cell_type": "markdown",
   "id": "8ceb8bae-6cab-4979-a3cd-4ff8ed5d8520",
   "metadata": {},
   "source": [
    "Now, we find that there are three Committees which appear more than two times. "
   ]
  },
  {
   "cell_type": "code",
   "execution_count": 10,
   "id": "04513ad8-02fd-42f8-ad18-66cd48a4adc3",
   "metadata": {},
   "outputs": [
    {
     "name": "stdout",
     "output_type": "stream",
     "text": [
      "C00705236,JOE COLLINS FOR CONGRESS,\"MARSTON, CHRIS\",5777 CENTURY BLVD,STE 1110-143,LOS ANGELES,CA,90045,P,H,REP,Q,,NONE,H0CA43108\n",
      "C00781104,KINA COLLINS FOR CONGRESS,\"COLLINS, KINA\",901 LAKE ST,UNIT 4093,OAK PARK,IL,60301,P,H,DEM,Q,,KINA FOR CONGRESS,H0IL07167\n",
      "C00785006,JAY COLLINS FOR CONGRESS,\"KILGORE, PAUL\",7853 GUNN HWY,BOX 238,TAMPA,FL,33626,P,H,REP,Q,,NONE,H2FL14251\n",
      "C00502039,COLLINS FOR CONGRESS,\"DANIEL, CARROLL BRIAN\",PO BOX 1295,,GAINESVILLE,GA,30503,P,H,REP,T,,,H2GA09150\n",
      "C00521641,COLLINS FOR CONGRESS,CYNTHIA M GIFFORD,176 SYCAMORE LANE,,WAKEFIELD,RI,02879,P,H,IND,A,,,H2RI02143\n",
      "C00544684,COLLINS FOR CONGRESS,\"BROWN, MEGAN\",PO BOX 6491,,ATHENS,GA,30604,P,H,REP,Q,,NONE,H4GA10071\n",
      "C00611137,COLLINS FOR CONGRESS,CATHERINE ANN PAGE,3045 DARIEN PARK DRIVE,,ROSWELL,GA,30076,P,H,REP,Q,,,H4GA11103\n"
     ]
    }
   ],
   "source": [
    "!grep \"COLLINS FOR CONGRESS\" candidate.csv | sort -k 2,2"
   ]
  },
  {
   "cell_type": "code",
   "execution_count": 11,
   "id": "de38d47e-79ee-482c-8470-e0e2f636177b",
   "metadata": {},
   "outputs": [
    {
     "name": "stdout",
     "output_type": "stream",
     "text": [
      "C00672956,SCHNEIDER FOR CONGRESS,\"CRATE, BRADLEY T\",PO BOX 317,,BEVERLY,MA,01915,P,H,REP,Q,,NONE,H8MA06133\n",
      "C00495952,SCHNEIDER FOR CONGRESS,\"KARTON, DEBORAH\",PO BOX 1318,,DEERFIELD,IL,60015,P,H,DEM,Q,,NONE,H2IL10068\n",
      "C00374751,SCHNEIDER FOR CONGRESS,\"SCHNEIDER, JAN MS\",227 SEAGULL LANE,,SARASOTA,FL,34236,A,H,DEM,Q,,,H2FL13139\n",
      "C00690263,HOLD THEM ACCOUNTABLE,\"VOGEL, TARYN\",PO BOX 2505,,MT PLEASANT,SC,29465,U,V,,Q,,,\n",
      "C00771923,HOLD THEM ACCOUNTABLE,\"VOGEL, TARYN\",PO BOX 2505,,MT PLEASANT,SC,29465,U,O,,T,,,\n",
      "C00764175,HOLD THEM ACCOUNTABLE,\"WINTER, DAVID MR\",15 PARK STREET APT 206,,ESSEX JCT.,VT,05452,U,O,,T,,,\n"
     ]
    }
   ],
   "source": [
    "!grep 'SCHNEIDER FOR CONGRESS\\|HOLD THEM ACCOUNTABLE' candidate.csv | sort -k 2,2 -k 3,3 -s"
   ]
  },
  {
   "cell_type": "markdown",
   "id": "4feb163c-ef38-40d3-a92d-671efcfc8a4b",
   "metadata": {},
   "source": [
    "### Conclusion for Question 4: \n",
    "\n",
    "* Although there seem to be as many as 10 names of committees that appear more than two times, it is understood that in 8 cases, the Candidate names and addresses are unique, and therefore can be ignored.\n",
    "\n",
    "* In the case of Vogel, Taryn, the name of Committee remains same for two separate records. However, since the Committee ID is unique, the records from this database can only indicate duplicity. It will have to be verified and set right based on actual documented paperwork. \n",
    "\n",
    "* After checking if deemed duplicate we can go ahead and remove this record from our data"
   ]
  }
 ],
 "metadata": {
  "kernelspec": {
   "display_name": "Python 3 (ipykernel)",
   "language": "python",
   "name": "python3"
  },
  "language_info": {
   "codemirror_mode": {
    "name": "ipython",
    "version": 3
   },
   "file_extension": ".py",
   "mimetype": "text/x-python",
   "name": "python",
   "nbconvert_exporter": "python",
   "pygments_lexer": "ipython3",
   "version": "3.8.10"
  }
 },
 "nbformat": 4,
 "nbformat_minor": 5
}
